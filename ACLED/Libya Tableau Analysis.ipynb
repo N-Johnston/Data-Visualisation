{
 "cells": [
  {
   "cell_type": "markdown",
   "metadata": {},
   "source": [
    "# Spatio & Temporal Analysis Using Tableau\n",
    "\n",
    "### Case Study of Armed Conflict in Libya\n",
    "\n",
    "Data has been sourced from the ACLED project:\n",
    "[ACLED](http://www.acleddata.com/)\n",
    "\n",
    "The images displayed below were created using [Tableau](https://www.tableau.com/) and are displayed here as a representation of the possible data visualisations that can be created using the software. It is freely available to use, however all created visuals will be hosted on a public server unless a private liscence is purchased.\n",
    "\n",
    "These static images were produced to support a piece of visual analytics work conducted as part of my MSc, the supporting narrative can be found [here](VA-Cw2.pdf) as a PDF."
   ]
  },
  {
   "cell_type": "markdown",
   "metadata": {},
   "source": [
    "## AreaChart\n",
    "\n",
    "High level overview of recorded African conflict events, hue used to depict event type. Chart shows events are dominated by 'Battle - no change in territory', 'Riots/Protests' and 'Violence against civilians'. Also of note is the surge in events post 2010.\n",
    "\n",
    "<img src=\"Images/AreaChart.png\",width=800,height=600>"
   ]
  },
  {
   "cell_type": "markdown",
   "metadata": {},
   "source": [
    "## Country Heat map\n",
    "\n",
    "Time series has been limited to 2011 - 2015. Country level analysis using a divergent colourscale shows Libya is an outlier in the data for both volume of fatalities and events.\n",
    "\n",
    "<img src=\"Images/Heatmap.png\",width=700,height=600>"
   ]
  },
  {
   "cell_type": "markdown",
   "metadata": {},
   "source": [
    "## Choropleth\n",
    "\n",
    "Choropleth of the same timeline and colourscale yields the same information with a geographical visual.\n",
    "\n",
    "\n",
    "\n",
    "<img src=\"Images/Choropleth.png\",width=600,height=600>"
   ]
  },
  {
   "cell_type": "markdown",
   "metadata": {},
   "source": [
    "## StackedBarChart\n",
    "\n",
    "Country specific view of Libya, demonstrates a peaceful country pre 2011 and incredible turbulence post 2011. Domain knowledge identifies 2011 as the year Gadaffi was usurped from power. The following years have resulted in continuous power sturggles resulting large numbers of fatalities.\n",
    "\n",
    "<img src=\"Images/StackedBarChart.png\", width=600, height=600>"
   ]
  },
  {
   "cell_type": "markdown",
   "metadata": {},
   "source": [
    "## Libyan Population Mapped\n",
    "\n",
    "The following map shows the conflict events mapped over the country. Orange circles represent a city in the top 20 cities by population. They are additionally scaled by their respective populations therefore Tripoli and Benghazi are shown as the largest circles. Red circles represent towns/dwellings with a population count outside the top 20.\n",
    "\n",
    "This map was created in order to put the next map in perspective.\n",
    "\n",
    "<img src=\"Images/PopulationLibya.png\", width=600, height=600>"
   ]
  },
  {
   "cell_type": "markdown",
   "metadata": {},
   "source": [
    "## EventType\n",
    "\n",
    "The map belows plots the volume of fatalities by location. Hue represents the event type which led to the fatalities. As comprehensive access to Libyan population statistics was difficult to access this map needs to be viewed in tandem with the population map. It is little surprise that the majority of fatalities suffered occured in the areas of dense population. However it is interesting to note the different types of events responsible.\n",
    "\n",
    "<img src=\"Images/EventType.png\",width=600,height=600>"
   ]
  },
  {
   "cell_type": "markdown",
   "metadata": {},
   "source": [
    "## Interaction\n",
    "\n",
    "Horizontal bar chart has been produced to show the counts of interacting agents. An interaction is defined as an event caused by two distinct parties. The chart below shows the principal agents responsible for the most events are interactions between the Government and Rebel Forces, closely followed by interactions between the Government and outside forces. Outside forces are defined as actors operating from outside Libya e.g. USA.\n",
    "\n",
    "<img src=\"Images/Interaction.png\", width=800, height=600>"
   ]
  },
  {
   "cell_type": "markdown",
   "metadata": {},
   "source": [
    "## TreeMap\n",
    "\n",
    "Number of events with at least 1 connected fatality by principal interaction agent. Block size proportional to number of fatalities. Hue shows principal agent. It is again immediately obvious that the Libyan government shoulders the largest responsibility.\n",
    "\n",
    "<img src=\"Images/FatalityCount.png\", width=600, height=600>"
   ]
  },
  {
   "cell_type": "markdown",
   "metadata": {},
   "source": [
    "## Tree Map\n",
    "\n",
    "Second example of a tree map. Count of events by principal interaction agent. Size is not used as a distinguisher this time. Hue has the same legend.\n",
    "\n",
    "<img src=\"Images/Actor.png\", width=600, height=600>"
   ]
  },
  {
   "cell_type": "markdown",
   "metadata": {},
   "source": [
    "## Tabulate and Graph\n",
    "\n",
    "Finally, Tableau also allows bargraph plotting within a table. This allowed me to produce a graphic that gave information about time, actor, count of fatalities and count of event type. Quick analysis reveals March to be a particularly active month despite little territory being gained by either side. Additonally some bloody event occured in August, carried out by an external force, which seems to have dampened activity for the remainder of the year. Domain knowledge reveals this was the month Gadaffi was killed in.\n",
    "\n",
    "<img src=\"Images/EventDate.png\", width=600, height=600>"
   ]
  },
  {
   "cell_type": "code",
   "execution_count": null,
   "metadata": {
    "collapsed": true
   },
   "outputs": [],
   "source": []
  }
 ],
 "metadata": {
  "kernelspec": {
   "display_name": "Python 3",
   "language": "python",
   "name": "python3"
  },
  "language_info": {
   "codemirror_mode": {
    "name": "ipython",
    "version": 3
   },
   "file_extension": ".py",
   "mimetype": "text/x-python",
   "name": "python",
   "nbconvert_exporter": "python",
   "pygments_lexer": "ipython3",
   "version": "3.4.5"
  }
 },
 "nbformat": 4,
 "nbformat_minor": 0
}
